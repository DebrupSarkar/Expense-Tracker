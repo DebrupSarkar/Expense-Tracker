{
 "cells": [
  {
   "cell_type": "code",
   "execution_count": 1,
   "id": "9eef411b-0b1b-4b41-b5fe-6b2949cf1aa7",
   "metadata": {},
   "outputs": [
    {
     "name": "stdout",
     "output_type": "stream",
     "text": [
      "Expenses loaded from Expense.csv.\n",
      "\n",
      "Menu:\n",
      "1. Add expense\n",
      "2. View expenses\n",
      "3. Track budget\n",
      "4. Save expenses\n",
      "5. Exit\n"
     ]
    },
    {
     "name": "stdin",
     "output_type": "stream",
     "text": [
      "Select an option (1-5):  1\n",
      "Enter the date of the expense (YYYY-MM-DD):  2002-08-09\n",
      "Enter the category of the expense:  Food\n",
      "Enter the amount spent: 4500\n",
      "Enter a brief description of the expense:  Birthday Party\n"
     ]
    },
    {
     "name": "stdout",
     "output_type": "stream",
     "text": [
      "Expense added successfully\n",
      "\n",
      "Menu:\n",
      "1. Add expense\n",
      "2. View expenses\n",
      "3. Track budget\n",
      "4. Save expenses\n",
      "5. Exit\n"
     ]
    },
    {
     "name": "stdin",
     "output_type": "stream",
     "text": [
      "Select an option (1-5):  4\n"
     ]
    },
    {
     "name": "stdout",
     "output_type": "stream",
     "text": [
      "Expenses saved to Expenses.csv.\n",
      "\n",
      "Menu:\n",
      "1. Add expense\n",
      "2. View expenses\n",
      "3. Track budget\n",
      "4. Save expenses\n",
      "5. Exit\n"
     ]
    },
    {
     "name": "stdin",
     "output_type": "stream",
     "text": [
      "Select an option (1-5):  2\n"
     ]
    },
    {
     "name": "stdout",
     "output_type": "stream",
     "text": [
      "\n",
      "Saved Expenses:\n",
      "Date: 2005-09-08, Category: Food, Amount: $3400.00, Description: Dinner with friends\n",
      "Date: 2004-09-05, Category: Travel, Amount: $500.00, Description: Road trip with friends\n",
      "Date: 2002-08-09, Category: Food, Amount: $4500.00, Description: Birthday Party\n",
      "\n",
      "Menu:\n",
      "1. Add expense\n",
      "2. View expenses\n",
      "3. Track budget\n",
      "4. Save expenses\n",
      "5. Exit\n"
     ]
    },
    {
     "name": "stdin",
     "output_type": "stream",
     "text": [
      "Select an option (1-5):  3\n",
      "Enter your monthly budget:  9000\n"
     ]
    },
    {
     "name": "stdout",
     "output_type": "stream",
     "text": [
      "Monthly budget set to 9000.00\n",
      "Total Expenses: 8400.00\n",
      "You have 600.00 left for this month.\n",
      "\n",
      "Menu:\n",
      "1. Add expense\n",
      "2. View expenses\n",
      "3. Track budget\n",
      "4. Save expenses\n",
      "5. Exit\n"
     ]
    },
    {
     "name": "stdin",
     "output_type": "stream",
     "text": [
      "Select an option (1-5):  5\n"
     ]
    },
    {
     "name": "stdout",
     "output_type": "stream",
     "text": [
      "Expenses saved to Expenses.csv.\n",
      "Exiting the program\n"
     ]
    }
   ],
   "source": [
    "import csv\n",
    "from datetime import datetime\n",
    "expenses=[]\n",
    "monthly_budget=0\n",
    "\n",
    "def add_expense():\n",
    "    date=input(\"Enter the date of the expense (YYYY-MM-DD): \")\n",
    "    category=input(\"Enter the category of the expense: \")\n",
    "    amount=input(\"Enter the amount spent:\")\n",
    "    description=input(\"Enter a brief description of the expense: \")\n",
    "    try:\n",
    "        amount=float(amount)\n",
    "        datetime.strptime(date, '%Y-%m-%d')\n",
    "        expense={\n",
    "            'date': date,\n",
    "            'category': category,\n",
    "            'amount': amount,\n",
    "            'description': description\n",
    "        }\n",
    "        expenses.append(expense)\n",
    "        print(\"Expense added successfully\")\n",
    "    except ValueError:\n",
    "        print(\"Invalid input! Please ensure the amount is a number and the date is in the expected format (YYYY-MM-DD)\")\n",
    "\n",
    "def view_expense():\n",
    "    global expenses\n",
    "    \n",
    "    if not expenses:\n",
    "        print(\"No expenses recorded.\")\n",
    "        return\n",
    "    print(\"\\nSaved Expenses:\")\n",
    "    for expense in expenses:\n",
    "        if all(key in expense for key in ['date', 'category', 'amount', 'description']):\n",
    "            print(f\"Date: {expense['date']}, Category: {expense['category']}, Amount: ${expense['amount']:.2f}, Description: {expense['description']}\")\n",
    "        else:\n",
    "            print(\"Incomplete expense entry found. Skipping the entry\")\n",
    "\n",
    "def set_budget():\n",
    "    global monthly_budget\n",
    "    budget_input=input(\"Enter your monthly budget: \")\n",
    "    try:\n",
    "        monthly_budget=float(budget_input)\n",
    "        print(f\"Monthly budget set to {monthly_budget:.2f}\")\n",
    "    except ValueError:\n",
    "        print(\"Invalid input! Please enter a valid number.\")\n",
    "\n",
    "def track_budget():\n",
    "    total_expenses=sum(expense['amount'] for expense in expenses)\n",
    "    print(f\"Total Expenses: {total_expenses:.2f}\")\n",
    "    if total_expenses>monthly_budget:\n",
    "        print(\"You have exceeded your budget\")\n",
    "    else:\n",
    "        balance_remaining=monthly_budget-total_expenses\n",
    "        print(f\"You have {balance_remaining:.2f} left for this month.\")\n",
    "\n",
    "def save_expenses():\n",
    "    with open('Expenses.csv',mode='w',newline='') as file:\n",
    "        writer=csv.DictWriter(file,fieldnames=['date','category','amount','description'])\n",
    "        writer.writeheader()\n",
    "        for expense in expenses:\n",
    "            writer.writerow(expense)\n",
    "    print(\"Expenses saved to Expenses.csv.\")\n",
    "\n",
    "def load_expenses():\n",
    "    global expenses\n",
    "    try:\n",
    "        with open('Expenses.csv', mode='r') as file:\n",
    "            reader=csv.DictReader(file)\n",
    "            expenses=[row for row in reader]\n",
    "        for expense in expenses:\n",
    "            expense['amount']=float(expense['amount'])\n",
    "        print(\"Expenses loaded from Expense.csv.\")\n",
    "    except FileNotFoundError:\n",
    "        print(\"No previous expenses found. Starting fresh.\")\n",
    "    except Exception as e:\n",
    "        print(f\"Error loading expenses: {e}\")\n",
    "\n",
    "def display_menu():\n",
    "    print(\"\\nMenu:\\n1. Add expense\\n2. View expenses\\n3. Track budget\\n4. Save expenses\\n5. Exit\")\n",
    "\n",
    "def main():\n",
    "    load_expenses();\n",
    "    while True:\n",
    "        display_menu();\n",
    "        choice=input(\"Select an option (1-5): \")\n",
    "        \n",
    "        if choice=='1':\n",
    "            add_expense()\n",
    "        elif choice=='2':\n",
    "            view_expense()\n",
    "        elif choice=='3':\n",
    "            set_budget()\n",
    "            track_budget()\n",
    "        elif choice=='4':\n",
    "            save_expenses()\n",
    "        elif choice=='5':\n",
    "            save_expenses()\n",
    "            print(\"Exiting the program\")\n",
    "            break;\n",
    "        else:\n",
    "            print(\"Invalid choice. Please select a valid option.\")\n",
    "if __name__==\"__main__\":\n",
    "    main()\n",
    "            "
   ]
  },
  {
   "cell_type": "code",
   "execution_count": null,
   "id": "6bad9826-113e-42d1-b57e-3cd5d1e4a197",
   "metadata": {},
   "outputs": [],
   "source": []
  }
 ],
 "metadata": {
  "kernelspec": {
   "display_name": "Python 3 (ipykernel)",
   "language": "python",
   "name": "python3"
  },
  "language_info": {
   "codemirror_mode": {
    "name": "ipython",
    "version": 3
   },
   "file_extension": ".py",
   "mimetype": "text/x-python",
   "name": "python",
   "nbconvert_exporter": "python",
   "pygments_lexer": "ipython3",
   "version": "3.12.7"
  }
 },
 "nbformat": 4,
 "nbformat_minor": 5
}
